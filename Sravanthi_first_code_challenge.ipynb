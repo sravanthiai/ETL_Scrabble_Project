{
 "cells": [
  {
   "cell_type": "code",
   "execution_count": 23,
   "metadata": {},
   "outputs": [
    {
     "name": "stdout",
     "output_type": "stream",
     "text": [
      "\"a\" is worth 1 points.\n",
      "\"b\" is worth 3 points.\n",
      "\"c\" is worth 3 points.\n",
      "\"d\" is worth 2 points.\n",
      "\"e\" is worth 1 points.\n",
      "\"f\" is worth 4 points.\n",
      "\"g\" is worth 2 points.\n",
      "\"h\" is worth 4 points.\n",
      "\"i\" is worth 1 points.\n",
      "\"j\" is worth 8 points.\n",
      "\"k\" is worth 5 points.\n",
      "\"l\" is worth 1 points.\n",
      "\"m\" is worth 3 points.\n",
      "\"n\" is worth 1 points.\n",
      "\"o\" is worth 1 points.\n",
      "\"p\" is worth 3 points.\n",
      "\"q\" is worth 10 points.\n",
      "\"r\" is worth 1 points.\n",
      "\"s\" is worth 1 points.\n",
      "\"t\" is worth 1 points.\n",
      "\"u\" is worth 1 points.\n",
      "\"v\" is worth 4 points.\n",
      "\"w\" is worth 4 points.\n",
      "\"x\" is worth 8 points.\n",
      "\"y\" is worth 4 points.\n",
      "\"z\" is worth 10 points.\n"
     ]
    }
   ],
   "source": [
    "def transform(d):\n",
    "    d_list = []\n",
    "    for key, value in d.items():\n",
    "        for word in value:\n",
    "            d_list.append(word.lower() + ':' + str(key))\n",
    "    #print(sorted(d_list))\n",
    "    for i in sorted(d_list):\n",
    "        if(len(i[2])=='1'):\n",
    "            print('\"{}\" is worth {} point.'.format(i[0],i[2]))\n",
    "        else:\n",
    "            print('\"{}\" is worth {} points.'.format(i[0],i[2:]))\n",
    "transform( d = {\n",
    "    1: [\"A\", \"E\", \"I\", \"O\", \"U\", \"L\", \"N\", \"R\", \"S\", \"T\"],\n",
    "    2: [\"D\", \"G\"],\n",
    "    3: [\"B\", \"C\", \"M\", \"P\"],\n",
    "    4: [\"F\", \"H\", \"V\", \"W\", \"Y\"],\n",
    "    5: [\"K\"],\n",
    "    8: [\"J\", \"X\"],\n",
    "    10: [\"Q\", \"Z\"]})\n"
   ]
  },
  {
   "cell_type": "code",
   "execution_count": null,
   "metadata": {},
   "outputs": [],
   "source": []
  }
 ],
 "metadata": {
  "kernelspec": {
   "display_name": "Python 3",
   "language": "python",
   "name": "python3"
  },
  "language_info": {
   "codemirror_mode": {
    "name": "ipython",
    "version": 3
   },
   "file_extension": ".py",
   "mimetype": "text/x-python",
   "name": "python",
   "nbconvert_exporter": "python",
   "pygments_lexer": "ipython3",
   "version": "3.8.3"
  }
 },
 "nbformat": 4,
 "nbformat_minor": 4
}
